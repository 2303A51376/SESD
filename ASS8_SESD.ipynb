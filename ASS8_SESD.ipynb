{
  "nbformat": 4,
  "nbformat_minor": 0,
  "metadata": {
    "colab": {
      "provenance": [],
      "authorship_tag": "ABX9TyNqM+RBUVh+mNGMJlHpEyVO",
      "include_colab_link": true
    },
    "kernelspec": {
      "name": "python3",
      "display_name": "Python 3"
    },
    "language_info": {
      "name": "python"
    }
  },
  "cells": [
    {
      "cell_type": "markdown",
      "metadata": {
        "id": "view-in-github",
        "colab_type": "text"
      },
      "source": [
        "<a href=\"https://colab.research.google.com/github/2303A51376/SESD/blob/main/ASS8_SESD.ipynb\" target=\"_parent\"><img src=\"https://colab.research.google.com/assets/colab-badge.svg\" alt=\"Open In Colab\"/></a>"
      ]
    },
    {
      "cell_type": "code",
      "execution_count": 1,
      "metadata": {
        "id": "8wB8DvdPxPfk"
      },
      "outputs": [],
      "source": [
        "class Movie:\n",
        "    def __init__(self, title, duration):\n",
        "        self.title = title\n",
        "        self.duration = duration  # minutes\n",
        "\n",
        "    def __str__(self):\n",
        "        return f\"{self.title} ({self.duration} mins)\"\n",
        "\n",
        "\n",
        "class Theater:\n",
        "    def __init__(self, name, total_seats):\n",
        "        self.name = name\n",
        "        self.total_seats = total_seats\n",
        "        self.available_seats = set(range(1, total_seats + 1))\n",
        "        self.booked_seats = set()\n",
        "\n",
        "    def is_seat_available(self, seat_number):\n",
        "        return seat_number in self.available_seats\n",
        "\n",
        "    def book_seat(self, seat_number):\n",
        "        if not self.is_seat_available(seat_number):\n",
        "            raise ValueError(f\"Seat {seat_number} is already booked!\")\n",
        "        self.available_seats.remove(seat_number)\n",
        "        self.booked_seats.add(seat_number)\n",
        "\n",
        "    def cancel_seat(self, seat_number):\n",
        "        if seat_number not in self.booked_seats:\n",
        "            raise ValueError(f\"Seat {seat_number} is not booked!\")\n",
        "        self.booked_seats.remove(seat_number)\n",
        "        self.available_seats.add(seat_number)\n",
        "\n",
        "\n",
        "class Ticket:\n",
        "    def __init__(self, movie, theater, seat_number, price):\n",
        "        self.movie = movie\n",
        "        self.theater = theater\n",
        "        self.seat_number = seat_number\n",
        "        self.price = price\n",
        "        self.is_cancelled = False\n",
        "\n",
        "    def cancel(self):\n",
        "        if self.is_cancelled:\n",
        "            raise ValueError(\"Ticket already cancelled!\")\n",
        "        self.theater.cancel_seat(self.seat_number)\n",
        "        self.is_cancelled = True\n",
        "        return self.price\n",
        "\n",
        "\n",
        "class BookingSystem:\n",
        "    def __init__(self):\n",
        "        self.bookings = []\n",
        "\n",
        "    def book_ticket(self, movie, theater, seat_number, price):\n",
        "        if not theater.is_seat_available(seat_number):\n",
        "            raise ValueError(f\"Seat {seat_number} already booked!\")\n",
        "        theater.book_seat(seat_number)\n",
        "        ticket = Ticket(movie, theater, seat_number, price)\n",
        "        self.bookings.append(ticket)\n",
        "        return ticket\n",
        "\n",
        "    def cancel_ticket(self, ticket):\n",
        "        refund = ticket.cancel()\n",
        "        self.bookings.remove(ticket)\n",
        "        return refund\n"
      ]
    },
    {
      "cell_type": "code",
      "source": [
        "import unittest\n",
        "\n",
        "class TestBookingSystem(unittest.TestCase):\n",
        "    def setUp(self):\n",
        "        self.movie = Movie(\"Avatar 2\", 180)\n",
        "        self.theater = Theater(\"INOX\", 5)\n",
        "        self.system = BookingSystem()\n",
        "\n",
        "    def test_seat_availability_after_booking(self):\n",
        "        ticket = self.system.book_ticket(self.movie, self.theater, 1, 250)\n",
        "        self.assertFalse(self.theater.is_seat_available(1))\n",
        "\n",
        "    def test_double_booking_not_allowed(self):\n",
        "        self.system.book_ticket(self.movie, self.theater, 2, 250)\n",
        "        with self.assertRaises(ValueError):\n",
        "            self.system.book_ticket(self.movie, self.theater, 2, 250)\n",
        "\n",
        "    def test_cancellation_restores_availability_and_refund(self):\n",
        "        ticket = self.system.book_ticket(self.movie, self.theater, 3, 300)\n",
        "        refund = self.system.cancel_ticket(ticket)\n",
        "        self.assertTrue(self.theater.is_seat_available(3))\n",
        "        self.assertEqual(refund, 300)\n",
        "\n",
        "# Run the tests in Colab\n",
        "unittest.TextTestRunner().run(unittest.TestLoader().loadTestsFromTestCase(TestBookingSystem))\n"
      ],
      "metadata": {
        "colab": {
          "base_uri": "https://localhost:8080/"
        },
        "id": "aeYBRmenxUpI",
        "outputId": "23ae5209-9974-4732-98d7-c5b1f3fc8f8a"
      },
      "execution_count": 2,
      "outputs": [
        {
          "output_type": "stream",
          "name": "stderr",
          "text": [
            "...\n",
            "----------------------------------------------------------------------\n",
            "Ran 3 tests in 0.003s\n",
            "\n",
            "OK\n"
          ]
        },
        {
          "output_type": "execute_result",
          "data": {
            "text/plain": [
              "<unittest.runner.TextTestResult run=3 errors=0 failures=0>"
            ]
          },
          "metadata": {},
          "execution_count": 2
        }
      ]
    },
    {
      "cell_type": "code",
      "source": [
        "def interactive_system():\n",
        "    movie = Movie(\"Joker 2\", 155)\n",
        "    theater = Theater(\"Cinepolis\", 5)\n",
        "    system = BookingSystem()\n",
        "\n",
        "    while True:\n",
        "        print(\"\\n🎬 MOVIE TICKET BOOKING SYSTEM 🎟️\")\n",
        "        print(\"1. View Available Seats\")\n",
        "        print(\"2. Book a Seat\")\n",
        "        print(\"3. Cancel a Seat\")\n",
        "        print(\"4. Exit\")\n",
        "        choice = input(\"Enter choice (1-4): \")\n",
        "\n",
        "        if choice == '1':\n",
        "            print(\"Available Seats:\", theater.available_seats)\n",
        "\n",
        "        elif choice == '2':\n",
        "            seat = int(input(\"Enter seat number to book: \"))\n",
        "            price = int(input(\"Enter ticket price: \"))\n",
        "            try:\n",
        "                system.book_ticket(movie, theater, seat, price)\n",
        "                print(f\"✅ Seat {seat} booked successfully!\")\n",
        "            except ValueError as e:\n",
        "                print(\"❌\", e)\n",
        "\n",
        "        elif choice == '3':\n",
        "            seat = int(input(\"Enter seat number to cancel: \"))\n",
        "            # Find the ticket by seat number\n",
        "            ticket_to_cancel = None\n",
        "            for t in system.bookings:\n",
        "                if t.seat_number == seat:\n",
        "                    ticket_to_cancel = t\n",
        "                    break\n",
        "            if ticket_to_cancel:\n",
        "                refund = system.cancel_ticket(ticket_to_cancel)\n",
        "                print(f\"🔁 Seat {seat} cancelled. Refund: ₹{refund}\")\n",
        "            else:\n",
        "                print(\"❌ No such booked seat found.\")\n",
        "\n",
        "        elif choice == '4':\n",
        "            print(\"🎥 Thank you for using the booking system!\")\n",
        "            break\n",
        "\n",
        "        else:\n",
        "            print(\"❌ Invalid choice. Try again.\")\n",
        "\n",
        "# Run interactive system\n",
        "interactive_system()\n"
      ],
      "metadata": {
        "colab": {
          "base_uri": "https://localhost:8080/",
          "height": 425
        },
        "id": "2yMBVQPtxcqa",
        "outputId": "a63f6cf5-ad84-46cb-9341-f1f85c6a256d"
      },
      "execution_count": 4,
      "outputs": [
        {
          "output_type": "stream",
          "name": "stdout",
          "text": [
            "\n",
            "🎬 MOVIE TICKET BOOKING SYSTEM 🎟️\n",
            "1. View Available Seats\n",
            "2. Book a Seat\n",
            "3. Cancel a Seat\n",
            "4. Exit\n"
          ]
        },
        {
          "output_type": "error",
          "ename": "KeyboardInterrupt",
          "evalue": "Interrupted by user",
          "traceback": [
            "\u001b[0;31m---------------------------------------------------------------------------\u001b[0m",
            "\u001b[0;31mKeyboardInterrupt\u001b[0m                         Traceback (most recent call last)",
            "\u001b[0;32m/tmp/ipython-input-3248095599.py\u001b[0m in \u001b[0;36m<cell line: 0>\u001b[0;34m()\u001b[0m\n\u001b[1;32m     46\u001b[0m \u001b[0;34m\u001b[0m\u001b[0m\n\u001b[1;32m     47\u001b[0m \u001b[0;31m# Run interactive system\u001b[0m\u001b[0;34m\u001b[0m\u001b[0;34m\u001b[0m\u001b[0m\n\u001b[0;32m---> 48\u001b[0;31m \u001b[0minteractive_system\u001b[0m\u001b[0;34m(\u001b[0m\u001b[0;34m)\u001b[0m\u001b[0;34m\u001b[0m\u001b[0;34m\u001b[0m\u001b[0m\n\u001b[0m",
            "\u001b[0;32m/tmp/ipython-input-3248095599.py\u001b[0m in \u001b[0;36minteractive_system\u001b[0;34m()\u001b[0m\n\u001b[1;32m     10\u001b[0m         \u001b[0mprint\u001b[0m\u001b[0;34m(\u001b[0m\u001b[0;34m\"3. Cancel a Seat\"\u001b[0m\u001b[0;34m)\u001b[0m\u001b[0;34m\u001b[0m\u001b[0;34m\u001b[0m\u001b[0m\n\u001b[1;32m     11\u001b[0m         \u001b[0mprint\u001b[0m\u001b[0;34m(\u001b[0m\u001b[0;34m\"4. Exit\"\u001b[0m\u001b[0;34m)\u001b[0m\u001b[0;34m\u001b[0m\u001b[0;34m\u001b[0m\u001b[0m\n\u001b[0;32m---> 12\u001b[0;31m         \u001b[0mchoice\u001b[0m \u001b[0;34m=\u001b[0m \u001b[0minput\u001b[0m\u001b[0;34m(\u001b[0m\u001b[0;34m\"Enter choice (1-4): \"\u001b[0m\u001b[0;34m)\u001b[0m\u001b[0;34m\u001b[0m\u001b[0;34m\u001b[0m\u001b[0m\n\u001b[0m\u001b[1;32m     13\u001b[0m \u001b[0;34m\u001b[0m\u001b[0m\n\u001b[1;32m     14\u001b[0m         \u001b[0;32mif\u001b[0m \u001b[0mchoice\u001b[0m \u001b[0;34m==\u001b[0m \u001b[0;34m'1'\u001b[0m\u001b[0;34m:\u001b[0m\u001b[0;34m\u001b[0m\u001b[0;34m\u001b[0m\u001b[0m\n",
            "\u001b[0;32m/usr/local/lib/python3.12/dist-packages/ipykernel/kernelbase.py\u001b[0m in \u001b[0;36mraw_input\u001b[0;34m(self, prompt)\u001b[0m\n\u001b[1;32m   1175\u001b[0m                 \u001b[0;34m\"raw_input was called, but this frontend does not support input requests.\"\u001b[0m\u001b[0;34m\u001b[0m\u001b[0;34m\u001b[0m\u001b[0m\n\u001b[1;32m   1176\u001b[0m             )\n\u001b[0;32m-> 1177\u001b[0;31m         return self._input_request(\n\u001b[0m\u001b[1;32m   1178\u001b[0m             \u001b[0mstr\u001b[0m\u001b[0;34m(\u001b[0m\u001b[0mprompt\u001b[0m\u001b[0;34m)\u001b[0m\u001b[0;34m,\u001b[0m\u001b[0;34m\u001b[0m\u001b[0;34m\u001b[0m\u001b[0m\n\u001b[1;32m   1179\u001b[0m             \u001b[0mself\u001b[0m\u001b[0;34m.\u001b[0m\u001b[0m_parent_ident\u001b[0m\u001b[0;34m[\u001b[0m\u001b[0;34m\"shell\"\u001b[0m\u001b[0;34m]\u001b[0m\u001b[0;34m,\u001b[0m\u001b[0;34m\u001b[0m\u001b[0;34m\u001b[0m\u001b[0m\n",
            "\u001b[0;32m/usr/local/lib/python3.12/dist-packages/ipykernel/kernelbase.py\u001b[0m in \u001b[0;36m_input_request\u001b[0;34m(self, prompt, ident, parent, password)\u001b[0m\n\u001b[1;32m   1217\u001b[0m             \u001b[0;32mexcept\u001b[0m \u001b[0mKeyboardInterrupt\u001b[0m\u001b[0;34m:\u001b[0m\u001b[0;34m\u001b[0m\u001b[0;34m\u001b[0m\u001b[0m\n\u001b[1;32m   1218\u001b[0m                 \u001b[0;31m# re-raise KeyboardInterrupt, to truncate traceback\u001b[0m\u001b[0;34m\u001b[0m\u001b[0;34m\u001b[0m\u001b[0m\n\u001b[0;32m-> 1219\u001b[0;31m                 \u001b[0;32mraise\u001b[0m \u001b[0mKeyboardInterrupt\u001b[0m\u001b[0;34m(\u001b[0m\u001b[0;34m\"Interrupted by user\"\u001b[0m\u001b[0;34m)\u001b[0m \u001b[0;32mfrom\u001b[0m \u001b[0;32mNone\u001b[0m\u001b[0;34m\u001b[0m\u001b[0;34m\u001b[0m\u001b[0m\n\u001b[0m\u001b[1;32m   1220\u001b[0m             \u001b[0;32mexcept\u001b[0m \u001b[0mException\u001b[0m\u001b[0;34m:\u001b[0m\u001b[0;34m\u001b[0m\u001b[0;34m\u001b[0m\u001b[0m\n\u001b[1;32m   1221\u001b[0m                 \u001b[0mself\u001b[0m\u001b[0;34m.\u001b[0m\u001b[0mlog\u001b[0m\u001b[0;34m.\u001b[0m\u001b[0mwarning\u001b[0m\u001b[0;34m(\u001b[0m\u001b[0;34m\"Invalid Message:\"\u001b[0m\u001b[0;34m,\u001b[0m \u001b[0mexc_info\u001b[0m\u001b[0;34m=\u001b[0m\u001b[0;32mTrue\u001b[0m\u001b[0;34m)\u001b[0m\u001b[0;34m\u001b[0m\u001b[0;34m\u001b[0m\u001b[0m\n",
            "\u001b[0;31mKeyboardInterrupt\u001b[0m: Interrupted by user"
          ]
        }
      ]
    },
    {
      "cell_type": "code",
      "source": [],
      "metadata": {
        "id": "VdGO9IOJyai5"
      },
      "execution_count": null,
      "outputs": []
    }
  ]
}